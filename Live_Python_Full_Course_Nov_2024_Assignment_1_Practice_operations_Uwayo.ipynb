{
  "nbformat": 4,
  "nbformat_minor": 0,
  "metadata": {
    "colab": {
      "provenance": [],
      "authorship_tag": "ABX9TyPeU5TgdXoXXA7mAnFEQdL6",
      "include_colab_link": true
    },
    "kernelspec": {
      "name": "python3",
      "display_name": "Python 3"
    },
    "language_info": {
      "name": "python"
    }
  },
  "cells": [
    {
      "cell_type": "markdown",
      "metadata": {
        "id": "view-in-github",
        "colab_type": "text"
      },
      "source": [
        "<a href=\"https://colab.research.google.com/github/uwayodev/php-for-beginners/blob/main/Live_Python_Full_Course_Nov_2024_Assignment_1_Practice_operations_Uwayo.ipynb\" target=\"_parent\"><img src=\"https://colab.research.google.com/assets/colab-badge.svg\" alt=\"Open In Colab\"/></a>"
      ]
    },
    {
      "cell_type": "markdown",
      "source": [
        "**Question 1**: A store sells apples at 5USD each and bananas at 3USD each.\n",
        "Declare variables apples_price and bananas_price with appropriate values.\n",
        "Calculate the total cost for purchasing 10 apples and 7 bananas and store the result in total_cost."
      ],
      "metadata": {
        "id": "nxZNbtnDmWaS"
      }
    },
    {
      "cell_type": "code",
      "source": [
        "apples_price = 5\n",
        "bananas_price = 3\n",
        "total_cost = apples_price * 10 + bananas_price * 7\n",
        "#Calculate the total cost and save it in the total_cost variable\n",
        "print(f\"the total cost for purchasing 10 apples and 7 bananas is {total_cost}\")"
      ],
      "metadata": {
        "colab": {
          "base_uri": "https://localhost:8080/"
        },
        "id": "WZ_tKqk7mZg9",
        "outputId": "fc3c313c-6098-4782-e479-9bbcd299ef2f"
      },
      "execution_count": 2,
      "outputs": [
        {
          "output_type": "stream",
          "name": "stdout",
          "text": [
            "the total cost for purchasing 10 apples and 7 bananas is 71\n"
          ]
        }
      ]
    },
    {
      "cell_type": "markdown",
      "source": [
        "**Question 2:** You have a monthly salary of USD4,000  and expenses that include rent (USD1,200), groceries (USD300), and miscellaneous (USD500). Calculate the amount left after expenses and store it in a variable named remaining_balance."
      ],
      "metadata": {
        "id": "pXS8J3SGnisS"
      }
    },
    {
      "cell_type": "code",
      "source": [
        "salary = 4000\n",
        "rent = 1200\n",
        "groceries =300\n",
        "miscellaneous = 500\n",
        "total_expenses = rent + groceries + miscellaneous\n",
        "remaining_balance = salary - total_expenses\n",
        "#display the remaining balance\n",
        "print(f\"The amount left after expenses is {remaining_balance}\")"
      ],
      "metadata": {
        "colab": {
          "base_uri": "https://localhost:8080/"
        },
        "id": "SXH2JYw-nlSG",
        "outputId": "e8409c06-daa4-4a8d-c3c4-6d38f238e478"
      },
      "execution_count": 5,
      "outputs": [
        {
          "output_type": "stream",
          "name": "stdout",
          "text": [
            "The amount left after expenses is 2000\n"
          ]
        }
      ]
    },
    {
      "cell_type": "markdown",
      "source": [
        "**Question 3:** A team won 28 matches this season, and last season they won 18 matches. Declare variables current_season_wins and last_season_wins with respective values. Calculate the increase in matches won and store it in win_difference."
      ],
      "metadata": {
        "id": "oiZzqf6KpEE3"
      }
    },
    {
      "cell_type": "code",
      "source": [
        "current_season_wins = 28\n",
        "last_season_wins = 18\n",
        "#Calculate the increase in matches won\n",
        "win_difference = current_season_wins - last_season_wins\n",
        "#Display the increase in matches won\n",
        "print(f\"the increase in matches won is {win_difference}\")"
      ],
      "metadata": {
        "colab": {
          "base_uri": "https://localhost:8080/"
        },
        "id": "fF-tborFpKc0",
        "outputId": "e59ed53b-6594-47ae-bd24-c6c27d20495f"
      },
      "execution_count": 6,
      "outputs": [
        {
          "output_type": "stream",
          "name": "stdout",
          "text": [
            "the increase in matches won is 10\n"
          ]
        }
      ]
    },
    {
      "cell_type": "markdown",
      "source": [
        "**Question 4:** A travel company charges USD250 per person for a weekend trip and gives a USD100 group discount for every 5 people. If a group has 15 people Calculate the total cost for the group and store it in group_trip_cost."
      ],
      "metadata": {
        "id": "3SFBDMnPpsIo"
      }
    },
    {
      "cell_type": "code",
      "source": [
        "group_discount_per_5_people = 100\n",
        "cost_per_person = 250\n",
        "group_size = 15\n",
        "total_discount = group_discount_per_5_people * group_size/5\n",
        "group_trip_cost = cost_per_person * group_size - total_discount\n",
        "# Print the result\n",
        "print(\"Total cost for the group:\", group_trip_cost)\n"
      ],
      "metadata": {
        "colab": {
          "base_uri": "https://localhost:8080/"
        },
        "id": "43dvrJJhpuDO",
        "outputId": "d9521c96-8031-47cc-abc7-a5263450595c"
      },
      "execution_count": 10,
      "outputs": [
        {
          "output_type": "stream",
          "name": "stdout",
          "text": [
            "Total cost for the group: 3450.0\n"
          ]
        }
      ]
    },
    {
      "cell_type": "markdown",
      "source": [
        "**Question 5:** An item costs $120, and there is a discount of 15%. Calculate the final price after the discount and store it in discounted_price."
      ],
      "metadata": {
        "id": "tVQMDEGCuiWz"
      }
    },
    {
      "cell_type": "code",
      "source": [
        "item_cost = 120\n",
        "discount_percentage = 15\n",
        "\n",
        "discounted_price = item_cost - (item_cost * discount_percentage/100)\n",
        "\n",
        "# Print the result\n",
        "print(\"Final price after discount:\", discounted_price)\n"
      ],
      "metadata": {
        "colab": {
          "base_uri": "https://localhost:8080/"
        },
        "id": "7XbKnoX6ukft",
        "outputId": "bca30796-750c-44f7-c7c6-f97aa9884f4e"
      },
      "execution_count": 19,
      "outputs": [
        {
          "output_type": "stream",
          "name": "stdout",
          "text": [
            "Final price after discount: 102.0\n"
          ]
        }
      ]
    },
    {
      "cell_type": "markdown",
      "source": [
        "Question 6: A company produces 500 units daily and sells each unit for $20. Declare variables units_per_day and price_per_unit. Calculate the monthly revenue assuming a 30-day month and store it in monthly_revenue."
      ],
      "metadata": {
        "id": "cykxjHLpwDye"
      }
    },
    {
      "cell_type": "code",
      "source": [
        "units_per_day = 500\n",
        "price_per_unit = 20\n",
        "days_per_month = 30\n",
        "monthly_revenue = units_per_day * price_per_unit * days_per_month\n",
        "#Display the monthly revenue\n",
        "print(\"the monthly revenue is \",monthly_revenue,\"USD\")\n"
      ],
      "metadata": {
        "colab": {
          "base_uri": "https://localhost:8080/"
        },
        "id": "I4tm5xUNu_fv",
        "outputId": "2c25300c-ab78-4a24-d79e-fc106f7b4bd0"
      },
      "execution_count": 22,
      "outputs": [
        {
          "output_type": "stream",
          "name": "stdout",
          "text": [
            "the monthly revenue is  300000 USD\n"
          ]
        }
      ]
    },
    {
      "cell_type": "markdown",
      "source": [
        "**Question 7:** A farmer grows wheat on a 150-acre farm and yields 3,000 kg per acre. Declare variables acreage and yield_per_acre. Calculate the total wheat production and store it in total_production."
      ],
      "metadata": {
        "id": "nNapap4cyS-e"
      }
    },
    {
      "cell_type": "code",
      "source": [
        "acreage = 150\n",
        "yield_per_acre = 3000\n",
        "total_production = acreage * yield_per_acre\n",
        "# Print the result\n",
        "print(\"Total wheat production:\", total_production, \"kg\")"
      ],
      "metadata": {
        "colab": {
          "base_uri": "https://localhost:8080/"
        },
        "id": "z2z4lgW-zGes",
        "outputId": "f4969f51-7cec-42aa-9546-c026da057d31"
      },
      "execution_count": 24,
      "outputs": [
        {
          "output_type": "stream",
          "name": "stdout",
          "text": [
            "Total wheat production: 450000 kg\n"
          ]
        }
      ]
    },
    {
      "cell_type": "markdown",
      "source": [
        "**Question 8:** A bakery makes $2 profit on each loaf of bread sold. If they sell 200 loaves in a day, declare variables profit_per_loaf and loaves_sold. Calculate the daily profit and store it in daily_profit.\n"
      ],
      "metadata": {
        "id": "Cln3EYE80G4x"
      }
    },
    {
      "cell_type": "code",
      "source": [],
      "metadata": {
        "id": "QqdSIAh80fpK"
      },
      "execution_count": null,
      "outputs": []
    },
    {
      "cell_type": "code",
      "source": [
        "profit_per_loaf = 2\n",
        "loaves_sold_per_day = 200\n",
        "daily_profit = profit_per_loaf * loaves_sold_per_day\n",
        "\n",
        "# Print the result\n",
        "print(\"Daily profit:\", daily_profit)"
      ],
      "metadata": {
        "colab": {
          "base_uri": "https://localhost:8080/"
        },
        "id": "BAxDxe_r0Ib_",
        "outputId": "77cec721-d9c7-4a18-ccfa-193142e925de"
      },
      "execution_count": 26,
      "outputs": [
        {
          "output_type": "stream",
          "name": "stdout",
          "text": [
            "Daily profit: 400\n"
          ]
        }
      ]
    },
    {
      "cell_type": "markdown",
      "source": [
        "**Question 9:** You are planning an event for 120 attendees. The venue rental is USD800, and catering costs USD25 per person. Declare variables venue_cost, catering_cost_per_person, and number_of_attendees. Calculate the total cost of the event and store it in event_total_cost."
      ],
      "metadata": {
        "id": "qm8jGt8k08Gb"
      }
    },
    {
      "cell_type": "code",
      "source": [
        "number_of_attendees = 120\n",
        "catering_cost_per_person = 25\n",
        "venue_cost = 800\n",
        "\n",
        "event_total_cost = venue_cost + catering_cost_per_person * number_of_attendees\n",
        "\n",
        "#Display the total cost of the event\n",
        "print(\"the total cost of the event :\",event_total_cost,\"$\")\n",
        "\n",
        "\n"
      ],
      "metadata": {
        "colab": {
          "base_uri": "https://localhost:8080/"
        },
        "id": "E1jB3ivN090A",
        "outputId": "3d6910ac-02a6-46a3-b3fb-70e83579ed1e"
      },
      "execution_count": 28,
      "outputs": [
        {
          "output_type": "stream",
          "name": "stdout",
          "text": [
            "the total cost of the event : 3800 $\n"
          ]
        }
      ]
    },
    {
      "cell_type": "markdown",
      "source": [
        "**Question 10:** A school's annual fee per student is $1,500, and they provide a 5% sibling discount. Declare variables annual_fee and sibling_discount_percent. Calculate the discounted fee for one sibling and store it in sibling_discounted_fee."
      ],
      "metadata": {
        "id": "Jssd0Wxj6Dyo"
      }
    },
    {
      "cell_type": "code",
      "source": [
        "# Define variables\n",
        "annual_fee = 1500\n",
        "sibling_discount_percent = 5\n",
        "\n",
        "# Calculate discount amount\n",
        "discount_amount = (sibling_discount_percent / 100) * annual_fee\n",
        "\n",
        "# Calculate discounted fee for one sibling\n",
        "sibling_discounted_fee = annual_fee - discount_amount\n",
        "\n",
        "# Print the result\n",
        "print(\"Discounted fee for one sibling:\", sibling_discounted_fee)\n"
      ],
      "metadata": {
        "colab": {
          "base_uri": "https://localhost:8080/"
        },
        "id": "Gw08OE7x6GHg",
        "outputId": "c7a0b151-eac5-4210-af25-2bac4e75d115"
      },
      "execution_count": 32,
      "outputs": [
        {
          "output_type": "stream",
          "name": "stdout",
          "text": [
            "Discounted fee for one sibling: 1425.0\n"
          ]
        }
      ]
    }
  ]
}